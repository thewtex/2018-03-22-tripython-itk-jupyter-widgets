{
 "cells": [
  {
   "cell_type": "markdown",
   "metadata": {
    "slideshow": {
     "slide_type": "slide"
    }
   },
   "source": [
    "# itk-jupyter-widgets\n",
    "\n",
    "## Interactive 3D and 2D Visualization in Jupyter\n",
    "\n",
    "TriPython March 2018 Meeting\n",
    "\n",
    "Matthew McCormick, PhD\n",
    "\n",
    "Kitware, Inc\n",
    "\n",
    "[<img src=\"https://thumbs.gfycat.com/ShyFelineBeetle-size_restricted.gif\" width=\"320\">](https://github.com/InsightSoftwareConsortium/itk-jupyter-widgets)\n",
    "\n",
    "[<img src=\"https://pydata.org/carolinas2016/media/sponsor_files/tripython-banner_478mQLr.svg\" width=\"200\">](http://trizpug.org/)\n",
    "\n",
    "[<img src=\"https://upload.wikimedia.org/wikipedia/commons/thumb/f/f9/CC-Zero-badge.svg/88px-CC-Zero-badge.svg.png\">](https://creativecommons.org/share-your-work/public-domain/cc0/)"
   ]
  },
  {
   "cell_type": "code",
   "execution_count": 1,
   "metadata": {
    "slideshow": {
     "slide_type": "skip"
    }
   },
   "outputs": [],
   "source": [
    "from itkwidgets import view\n",
    "\n",
    "import requests\n",
    "import itk\n",
    "\n",
    "import shutil\n",
    "import os\n",
    "\n",
    "# Download data\n",
    "fileName = '005_32months_T2_RegT1_Reg2Atlas_ManualBrainMask_Stripped.nrrd'\n",
    "if not os.path.exists(fileName):\n",
    "    response = requests.get('https://data.kitware.com/api/v1/file/564a5b078d777f7522dbfaa6/download', stream=True)\n",
    "    with open(fileName, 'wb') as fp:\n",
    "        response.raw.decode_content = True\n",
    "        shutil.copyfileobj(response.raw, fp)"
   ]
  },
  {
   "cell_type": "code",
   "execution_count": 4,
   "metadata": {
    "slideshow": {
     "slide_type": "slide"
    }
   },
   "outputs": [
    {
     "data": {
      "application/vnd.jupyter.widget-view+json": {
       "model_id": "532e8bec29b448be9bcedd760d33a33b",
       "version_major": 2,
       "version_minor": 0
      },
      "text/html": [
       "<p>Failed to display Jupyter Widget of type <code>Viewer</code>.</p>\n",
       "<p>\n",
       "  If you're reading this message in the Jupyter Notebook or JupyterLab Notebook, it may mean\n",
       "  that the widgets JavaScript is still loading. If this message persists, it\n",
       "  likely means that the widgets JavaScript library is either not installed or\n",
       "  not enabled. See the <a href=\"https://ipywidgets.readthedocs.io/en/stable/user_install.html\">Jupyter\n",
       "  Widgets Documentation</a> for setup instructions.\n",
       "</p>\n",
       "<p>\n",
       "  If you're reading this message in another frontend (for example, a static\n",
       "  rendering on GitHub or <a href=\"https://nbviewer.jupyter.org/\">NBViewer</a>),\n",
       "  it may mean that your frontend doesn't currently support widgets.\n",
       "</p>\n"
      ],
      "text/plain": [
       "Viewer(image=<itkImagePython.itkImageSS3; proxy of <Swig Object of type 'itkImageSS3 *' at 0x7f9bec075ed0> >)"
      ]
     },
     "metadata": {},
     "output_type": "display_data"
    }
   ],
   "source": [
    "from itkwidgets import view\n",
    "import itk\n",
    "image = itk.imread(fileName)\n",
    "view(image)"
   ]
  },
  {
   "cell_type": "markdown",
   "metadata": {
    "slideshow": {
     "slide_type": "slide"
    }
   },
   "source": [
    "## Agenda\n"
   ]
  },
  {
   "cell_type": "markdown",
   "metadata": {
    "slideshow": {
     "slide_type": "fragment"
    }
   },
   "source": [
    "### Where have we come from? Where are we going?"
   ]
  },
  {
   "cell_type": "markdown",
   "metadata": {
    "slideshow": {
     "slide_type": "fragment"
    }
   },
   "source": [
    "### What is the problem we are solving?"
   ]
  },
  {
   "cell_type": "markdown",
   "metadata": {
    "slideshow": {
     "slide_type": "fragment"
    }
   },
   "source": [
    "### What technical approaches are required for this problem?"
   ]
  },
  {
   "cell_type": "markdown",
   "metadata": {
    "slideshow": {
     "slide_type": "fragment"
    }
   },
   "source": [
    "### How do I use this tool?"
   ]
  },
  {
   "cell_type": "markdown",
   "metadata": {
    "slideshow": {
     "slide_type": "fragment"
    }
   },
   "source": [
    "### What are the next steps?"
   ]
  },
  {
   "cell_type": "markdown",
   "metadata": {
    "slideshow": {
     "slide_type": "slide"
    }
   },
   "source": [
    "## Where have we come from?\n",
    "\n",
    "## Where are we going?"
   ]
  },
  {
   "cell_type": "markdown",
   "metadata": {
    "slideshow": {
     "slide_type": "fragment"
    }
   },
   "source": [
    "*with interactive scientific computing in the SciPy ecosystem*"
   ]
  },
  {
   "cell_type": "markdown",
   "metadata": {
    "slideshow": {
     "slide_type": "subslide"
    }
   },
   "source": [
    "### IPython Shell\n",
    "\n",
    "Original author: Fernando Pérez\n",
    "\n",
    "<img src=\"Fernando_Perez.jpg\" width=\"200\">\n",
    "<small><a href=\"https://en.wikipedia.org/wiki/Fernando_P%C3%A9rez_(software_developer)\">Image source</a></small>\n",
    "\n",
    "Initial release: 2001"
   ]
  },
  {
   "cell_type": "markdown",
   "metadata": {
    "slideshow": {
     "slide_type": "subslide"
    }
   },
   "source": [
    "### IPython Shell\n",
    "\n",
    "IPython 0.7.2 released June 6, 2006\n",
    "\n",
    "<img src=\"IPython-shell.png\" width=\"900\">\n",
    "<small>[Image source](https://en.wikipedia.org/wiki/IPython)</small>"
   ]
  },
  {
   "cell_type": "markdown",
   "metadata": {
    "slideshow": {
     "slide_type": "fragment"
    }
   },
   "source": [
    "- Interactive: **tab completion**\n",
    "- Accessible: Matlab $\\rightarrow$ **Scientific Python**\n",
    "- Brings powerful programming tools together: **matplotlib** integration"
   ]
  },
  {
   "cell_type": "markdown",
   "metadata": {
    "slideshow": {
     "slide_type": "subslide"
    }
   },
   "source": [
    "### IPython Notebook\n",
    "\n",
    "IPython 0.12.0 released December 18, 2011\n",
    "\n",
    "<img src=\"ipython_notebook.png\" width=\"500\">\n",
    "<small>[Image source](http://pgbovine.net/ipython-notebook-first-impressions.htm)</small>"
   ]
  },
  {
   "cell_type": "markdown",
   "metadata": {
    "slideshow": {
     "slide_type": "fragment"
    }
   },
   "source": [
    "- Interactive: creates *a tool for open, collaborative, reproducible scientific computing*\n",
    "- Accessible: Terminal $\\rightarrow$ **Web browser**\n",
    "- Brings powerful programming tools together: Literate programming: Markdown + $\\LaTeX$ **prose**, IPython shell **code** cells, and matplotlib **visualizations**"
   ]
  },
  {
   "cell_type": "markdown",
   "metadata": {},
   "source": [
    "### Jupyter Notebook\n",
    "\n",
    "Fernando announces Project Jupyter at SciPy 2014\n",
    "\n",
    "<img src=\"jupyter_notebook.png\" width=\"500\">\n",
    "<small>[Image source](https://jupyter.org/)</small>"
   ]
  },
  {
   "cell_type": "markdown",
   "metadata": {
    "slideshow": {
     "slide_type": "fragment"
    }
   },
   "source": [
    "- Interactive: Adds a file browser, browser-based terminal, and browser-based text editor\n",
    "- Accessible: Open standards for interative computing to enabled customized applications: Notebook Document Format, Interactive Computing Protocol, The Kernel\n",
    "- Brings powerful programming tools together: Expands support for programming language kernels **other than Python**"
   ]
  },
  {
   "cell_type": "markdown",
   "metadata": {
    "slideshow": {
     "slide_type": "subslide"
    }
   },
   "source": [
    "### JupyterLab\n",
    "\n",
    "[\"JupyterLab is Ready for Users\"](https://blog.jupyter.org/jupyterlab-is-ready-for-users-5a6f039b8906) - February 20, 2018\n",
    "\n",
    "<img src=\"jupyterlab.png\" width=\"600\">\n",
    "<small>[Image source](https://blog.jupyter.org/jupyterlab-is-ready-for-users-5a6f039b8906)</small>"
   ]
  },
  {
   "cell_type": "markdown",
   "metadata": {
    "slideshow": {
     "slide_type": "fragment"
    }
   },
   "source": [
    "- Interactive: Browser-based **window management**, customized viewers for different file types\n",
    "- Accessible: Drag and drop cells, easy deploy with *Docker-based* JupyterHub\n",
    "- Brings powerful programming tools together: Made with **community-developed extensions** in mind"
   ]
  },
  {
   "cell_type": "markdown",
   "metadata": {
    "slideshow": {
     "slide_type": "subslide"
    }
   },
   "source": [
    "### The Future\n",
    "\n",
    "**How do we develop the extensions?**\n",
    "\n",
    "<img src=\"birth_death_javascript.png\" width=\"500\">\n",
    "<small>[Image source](https://www.destroyallsoftware.com/talks/the-birth-and-death-of-javascript)</small>\n",
    "\n",
    "\"To start developing a JupyterLab extension, see the JupyterLab Extension Developer Guide and the **TypeScript** or **JavaScript** extension templates.\n",
    "\n",
    "JupyterLab itself is co-developed on top of **PhosphorJS**, a new **Javascript** library for **building extensible, high-performance, desktop-style web applications**. We use **modern JavaScript technologies** such as **TypeScript, React, Lerna, Yarn, and webpack**.\""
   ]
  },
  {
   "cell_type": "markdown",
   "metadata": {
    "slideshow": {
     "slide_type": "fragment"
    }
   },
   "source": [
    "- Interactive: **Browser-based application**\n",
    "- Accessible: **Zero-install**, works on **all platforms**\n",
    "- Brings powerful programming tools together: **JavaScript**, **WebGL**, **WebAssembly**"
   ]
  },
  {
   "cell_type": "markdown",
   "metadata": {
    "slideshow": {
     "slide_type": "slide"
    }
   },
   "source": [
    "## What is the problem we are solving?\n"
   ]
  },
  {
   "cell_type": "markdown",
   "metadata": {
    "slideshow": {
     "slide_type": "fragment"
    }
   },
   "source": [
    "*Interactive visualization to support spatial analysis*"
   ]
  },
  {
   "cell_type": "markdown",
   "metadata": {
    "slideshow": {
     "slide_type": "slide"
    }
   },
   "source": [
    "## What technical approaches are required for this problem?"
   ]
  },
  {
   "cell_type": "markdown",
   "metadata": {
    "slideshow": {
     "slide_type": "slide"
    }
   },
   "source": [
    "## How do I use this tool?"
   ]
  },
  {
   "cell_type": "markdown",
   "metadata": {
    "slideshow": {
     "slide_type": "slide"
    }
   },
   "source": [
    "## What are the next steps?"
   ]
  },
  {
   "cell_type": "markdown",
   "metadata": {
    "slideshow": {
     "slide_type": "slide"
    }
   },
   "source": [
    "- Interactive\n",
    "- Accessible\n",
    "- Brings powerful ~~programming tools~~ people together"
   ]
  },
  {
   "cell_type": "code",
   "execution_count": null,
   "metadata": {},
   "outputs": [],
   "source": []
  }
 ],
 "metadata": {
  "celltoolbar": "Slideshow",
  "kernelspec": {
   "display_name": "Python 2",
   "language": "python",
   "name": "python2"
  },
  "language_info": {
   "codemirror_mode": {
    "name": "ipython",
    "version": 2
   },
   "file_extension": ".py",
   "mimetype": "text/x-python",
   "name": "python",
   "nbconvert_exporter": "python",
   "pygments_lexer": "ipython2",
   "version": "2.7.12"
  }
 },
 "nbformat": 4,
 "nbformat_minor": 2
}
