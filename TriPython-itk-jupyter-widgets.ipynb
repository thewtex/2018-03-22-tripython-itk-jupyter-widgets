{
 "cells": [
  {
   "cell_type": "markdown",
   "metadata": {},
   "source": [
    "# itk-jupyter-widgets\n",
    "\n",
    "## Interactive 3D and 2D Visualization in Jupyter\n",
    "\n",
    "TriPython March 2018 Meeting\n",
    "\n",
    "Matthew McCormick, PhD\n",
    "\n",
    "[<img src=\"https://thumbs.gfycat.com/ShyFelineBeetle-size_restricted.gif\" width=\"320\">](https://github.com/InsightSoftwareConsortium/itk-jupyter-widgets)\n",
    "\n",
    "[<img src=\"https://pydata.org/carolinas2016/media/sponsor_files/tripython-banner_478mQLr.svg\" width=\"200\">](http://trizpug.org/)\n",
    "\n",
    "[<img src=\"https://upload.wikimedia.org/wikipedia/commons/thumb/f/f9/CC-Zero-badge.svg/88px-CC-Zero-badge.svg.png\">](https://creativecommons.org/share-your-work/public-domain/cc0/)"
   ]
  },
  {
   "cell_type": "code",
   "execution_count": null,
   "metadata": {},
   "outputs": [],
   "source": []
  }
 ],
 "metadata": {
  "kernelspec": {
   "display_name": "Python 2",
   "language": "python",
   "name": "python2"
  },
  "language_info": {
   "codemirror_mode": {
    "name": "ipython",
    "version": 2
   },
   "file_extension": ".py",
   "mimetype": "text/x-python",
   "name": "python",
   "nbconvert_exporter": "python",
   "pygments_lexer": "ipython2",
   "version": "2.7.13"
  }
 },
 "nbformat": 4,
 "nbformat_minor": 2
}
