{
 "cells": [
  {
   "cell_type": "markdown",
   "metadata": {
    "slideshow": {
     "slide_type": "slide"
    }
   },
   "source": [
    "# itk-jupyter-widgets\n",
    "\n",
    "## Interactive 3D and 2D Visualization in Jupyter\n",
    "\n",
    "TriPython March 2018 Meeting\n",
    "\n",
    "Matthew McCormick, PhD\n",
    "\n",
    "Kitware, Inc\n",
    "\n",
    "[<img src=\"https://thumbs.gfycat.com/ShyFelineBeetle-size_restricted.gif\" width=\"320\">](https://github.com/InsightSoftwareConsortium/itk-jupyter-widgets)\n",
    "\n",
    "[<img src=\"https://pydata.org/carolinas2016/media/sponsor_files/tripython-banner_478mQLr.svg\" width=\"200\">](http://trizpug.org/)\n",
    "\n",
    "[<img src=\"https://upload.wikimedia.org/wikipedia/commons/thumb/f/f9/CC-Zero-badge.svg/88px-CC-Zero-badge.svg.png\">](https://creativecommons.org/share-your-work/public-domain/cc0/)"
   ]
  },
  {
   "cell_type": "code",
   "execution_count": 1,
   "metadata": {
    "slideshow": {
     "slide_type": "skip"
    }
   },
   "outputs": [],
   "source": [
    "from itkwidgets import view\n",
    "\n",
    "import requests\n",
    "import itk\n",
    "\n",
    "import shutil\n",
    "import os\n",
    "\n",
    "# Download data\n",
    "fileName = '005_32months_T2_RegT1_Reg2Atlas_ManualBrainMask_Stripped.nrrd'\n",
    "if not os.path.exists(fileName):\n",
    "    response = requests.get('https://data.kitware.com/api/v1/file/564a5b078d777f7522dbfaa6/download', stream=True)\n",
    "    with open(fileName, 'wb') as fp:\n",
    "        response.raw.decode_content = True\n",
    "        shutil.copyfileobj(response.raw, fp)\n",
    "        \n",
    "# Download data\n",
    "brainFileName = 'brainweb165a10f17.mha'\n",
    "if not os.path.exists(brainFileName):\n",
    "    response = requests.get('https://data.kitware.com/api/v1/file/588271308d777f4f3f3072e2/download', stream=True)\n",
    "    with open(brainFileName, 'wb') as fp:\n",
    "        response.raw.decode_content = True\n",
    "        shutil.copyfileobj(response.raw, fp)"
   ]
  },
  {
   "cell_type": "code",
   "execution_count": 2,
   "metadata": {
    "slideshow": {
     "slide_type": "skip"
    }
   },
   "outputs": [],
   "source": [
    "from itkwidgets import view\n",
    "import itk\n",
    "image = itk.imread(fileName)\n",
    "#view(image)"
   ]
  },
  {
   "cell_type": "markdown",
   "metadata": {
    "slideshow": {
     "slide_type": "slide"
    }
   },
   "source": [
    "## Agenda\n"
   ]
  },
  {
   "cell_type": "markdown",
   "metadata": {
    "slideshow": {
     "slide_type": "fragment"
    }
   },
   "source": [
    "### Where have we come from? Where are we going?"
   ]
  },
  {
   "cell_type": "markdown",
   "metadata": {
    "slideshow": {
     "slide_type": "fragment"
    }
   },
   "source": [
    "### What is the problem we are solving?"
   ]
  },
  {
   "cell_type": "markdown",
   "metadata": {
    "slideshow": {
     "slide_type": "fragment"
    }
   },
   "source": [
    "### What technical approaches are required for this problem?"
   ]
  },
  {
   "cell_type": "markdown",
   "metadata": {
    "slideshow": {
     "slide_type": "fragment"
    }
   },
   "source": [
    "### How do I use this tool?"
   ]
  },
  {
   "cell_type": "markdown",
   "metadata": {
    "slideshow": {
     "slide_type": "fragment"
    }
   },
   "source": [
    "### What are the next steps?"
   ]
  },
  {
   "cell_type": "markdown",
   "metadata": {
    "slideshow": {
     "slide_type": "slide"
    }
   },
   "source": [
    "## Where have we come from?\n",
    "\n",
    "## Where are we going?"
   ]
  },
  {
   "cell_type": "markdown",
   "metadata": {
    "slideshow": {
     "slide_type": "fragment"
    }
   },
   "source": [
    "*with interactive scientific computing in the SciPy ecosystem*"
   ]
  },
  {
   "cell_type": "markdown",
   "metadata": {
    "slideshow": {
     "slide_type": "subslide"
    }
   },
   "source": [
    "### IPython Shell\n",
    "\n",
    "Original author: Fernando Pérez\n",
    "\n",
    "<img src=\"Fernando_Perez.jpg\" width=\"200\">\n",
    "<small><a href=\"https://en.wikipedia.org/wiki/Fernando_P%C3%A9rez_(software_developer)\">Image source</a></small>\n",
    "\n",
    "Initial release: 2001"
   ]
  },
  {
   "cell_type": "markdown",
   "metadata": {
    "slideshow": {
     "slide_type": "subslide"
    }
   },
   "source": [
    "### IPython Shell\n",
    "\n",
    "IPython 0.7.2 released June 6, 2006\n",
    "\n",
    "<img src=\"IPython-shell.png\" width=\"900\">\n",
    "<small>[Image source](https://en.wikipedia.org/wiki/IPython)</small>"
   ]
  },
  {
   "cell_type": "markdown",
   "metadata": {
    "slideshow": {
     "slide_type": "fragment"
    }
   },
   "source": [
    "- Interactive: **tab completion**\n",
    "- Accessible: Matlab $\\rightarrow$ **Scientific Python**\n",
    "- Brings powerful programming tools together: **matplotlib** integration"
   ]
  },
  {
   "cell_type": "markdown",
   "metadata": {
    "slideshow": {
     "slide_type": "subslide"
    }
   },
   "source": [
    "### IPython Notebook\n",
    "\n",
    "IPython 0.12.0 released December 18, 2011\n",
    "\n",
    "<img src=\"ipython_notebook.png\" width=\"500\">\n",
    "<small>[Image source](http://pgbovine.net/ipython-notebook-first-impressions.htm)</small>"
   ]
  },
  {
   "cell_type": "markdown",
   "metadata": {
    "slideshow": {
     "slide_type": "fragment"
    }
   },
   "source": [
    "- Interactive: creates *a tool for open, collaborative, reproducible scientific computing*\n",
    "- Accessible: Terminal $\\rightarrow$ **Web browser**\n",
    "- Brings powerful programming tools together: Literate programming: Markdown + $\\LaTeX$ **prose**, IPython shell **code** cells, and matplotlib **visualizations**"
   ]
  },
  {
   "cell_type": "markdown",
   "metadata": {
    "slideshow": {
     "slide_type": "subslide"
    }
   },
   "source": [
    "### Jupyter Notebook\n",
    "\n",
    "Fernando announces Project Jupyter at SciPy 2014\n",
    "\n",
    "<img src=\"jupyter_notebook.png\" width=\"500\">\n",
    "<small>[Image source](https://jupyter.org/)</small>"
   ]
  },
  {
   "cell_type": "markdown",
   "metadata": {
    "slideshow": {
     "slide_type": "fragment"
    }
   },
   "source": [
    "- Interactive: Adds a file browser, browser-based terminal, and browser-based text editor\n",
    "- Accessible: Open standards for interative computing to enabled customized applications: Notebook Document Format, Interactive Computing Protocol, The Kernel\n",
    "- Brings powerful programming tools together: Expands support for programming language kernels **other than Python**"
   ]
  },
  {
   "cell_type": "markdown",
   "metadata": {
    "slideshow": {
     "slide_type": "subslide"
    }
   },
   "source": [
    "### JupyterLab\n",
    "\n",
    "[\"JupyterLab is Ready for Users\"](https://blog.jupyter.org/jupyterlab-is-ready-for-users-5a6f039b8906) - February 20, 2018\n",
    "\n",
    "<img src=\"jupyterlab.png\" width=\"600\">\n",
    "<small>[Image source](https://blog.jupyter.org/jupyterlab-is-ready-for-users-5a6f039b8906)</small>"
   ]
  },
  {
   "cell_type": "markdown",
   "metadata": {
    "slideshow": {
     "slide_type": "fragment"
    }
   },
   "source": [
    "- Interactive: Browser-based **window management**, customized viewers for different file types\n",
    "- Accessible: Drag and drop cells, easy deploy with *Docker-based* JupyterHub\n",
    "- Brings powerful programming tools together: Made with **community-developed extensions** in mind"
   ]
  },
  {
   "cell_type": "markdown",
   "metadata": {
    "slideshow": {
     "slide_type": "subslide"
    }
   },
   "source": [
    "### The Future\n",
    "\n",
    "<img src=\"birth_death_javascript.png\" width=\"500\">\n",
    "<small>[Image source](https://www.destroyallsoftware.com/talks/the-birth-and-death-of-javascript)</small>\n",
    "\n",
    "\"To start developing a JupyterLab extension, see the JupyterLab Extension Developer Guide and the **TypeScript** or **JavaScript** extension templates. JupyterLab itself is co-developed on top of **PhosphorJS**, a new **Javascript** library for **building extensible, high-performance, desktop-style web applications**. We use **modern JavaScript technologies** such as **TypeScript, React, Lerna, Yarn, and webpack**.\""
   ]
  },
  {
   "cell_type": "markdown",
   "metadata": {
    "slideshow": {
     "slide_type": "fragment"
    }
   },
   "source": [
    "- Interactive: **Browser-based application**\n",
    "- Accessible: **Zero-install**, works on **all platforms**\n",
    "- Brings powerful programming tools together: **JavaScript**, **WebGL**, **WebAssembly**"
   ]
  },
  {
   "cell_type": "markdown",
   "metadata": {
    "slideshow": {
     "slide_type": "slide"
    }
   },
   "source": [
    "## What is the problem we are solving?\n"
   ]
  },
  {
   "cell_type": "markdown",
   "metadata": {
    "slideshow": {
     "slide_type": "fragment"
    }
   },
   "source": [
    "*Interactive visualization to support multi-dimensional spatial analysis*"
   ]
  },
  {
   "cell_type": "markdown",
   "metadata": {
    "slideshow": {
     "slide_type": "subslide"
    }
   },
   "source": [
    "### ipyleaflet\n",
    "\n",
    "*A Jupyter / Leaflet bridge enabling interactive maps in the Jupyter notebook.*\n",
    "\n",
    "<img src=\"ipyleaflet.png\" width=\"900\">\n",
    "\n",
    "<small>[Image source](https://github.com/ellisonbg/ipyleaflet)</small>"
   ]
  },
  {
   "cell_type": "markdown",
   "metadata": {
    "slideshow": {
     "slide_type": "subslide"
    }
   },
   "source": [
    "### GeoNotebook\n",
    "\n",
    "*GeoNotebook is an application that provides client/server environment with interactive visualization and analysis capabilities using Jupyter, GeoJS and other open source tools.*\n",
    "\n",
    "<img src=\"geonotebook.gif\" width=\"600\">\n",
    "\n",
    "<small>[Image source](https://github.com/OpenGeoscience/geonotebook)</small>"
   ]
  },
  {
   "cell_type": "markdown",
   "metadata": {
    "slideshow": {
     "slide_type": "subslide"
    }
   },
   "source": [
    "### ipyvolume\n",
    "\n",
    "*3d plotting for Python in the Jupyter notebook based on IPython widgets using WebGL.*\n",
    "\n",
    "<img src=\"ipyvolume.gif\" width=\"300\">\n",
    "\n",
    "<small>[Image source](https://github.com/maartenbreddels/ipyvolume)</small>"
   ]
  },
  {
   "cell_type": "markdown",
   "metadata": {
    "slideshow": {
     "slide_type": "subslide"
    }
   },
   "source": [
    "### pythreejs\n",
    "\n",
    "*A Python / ThreeJS bridge utilizing the Jupyter widget infrastructure.*\n",
    "\n",
    "<img src=\"pythreejs.gif\" width=\"500\">\n",
    "\n",
    "<small>[Image source](https://github.com/jovyan/pythreejs)</small>"
   ]
  },
  {
   "cell_type": "markdown",
   "metadata": {
    "slideshow": {
     "slide_type": "subslide"
    }
   },
   "source": [
    "### itk-jupyter-widgets\n",
    "\n",
    "These widgets are designed to support spatial analysis with the [Insight Toolkit (ITK)](https://www.itk.org), but they also work with other spatial analysis tools in the scientific Python ecosystem.\n",
    "\n",
    "These widgets are built on [itk.js](https://github.com/InsightSoftwareConsortium/itk-js) and [vtk.js](https://github.com/Kitware/vtk-js).\n",
    "\n",
    "[<img src=\"https://thumbs.gfycat.com/ShyFelineBeetle-size_restricted.gif\" width=\"320\">](https://github.com/InsightSoftwareConsortium/itk-jupyter-widgets)"
   ]
  },
  {
   "cell_type": "markdown",
   "metadata": {
    "slideshow": {
     "slide_type": "fragment"
    }
   },
   "source": [
    "- 2D or 3D images\n",
    "- Excellent volume rendering\n",
    "- Slicing\n",
    "- Data probe\n",
    "- Histogram and opacity transfer function editor"
   ]
  },
  {
   "cell_type": "code",
   "execution_count": 2,
   "metadata": {
    "slideshow": {
     "slide_type": "subslide"
    }
   },
   "outputs": [
    {
     "data": {
      "application/vnd.jupyter.widget-view+json": {
       "model_id": "2a4b246dbfda407293d46d95f4b74206",
       "version_major": 2,
       "version_minor": 0
      },
      "text/html": [
       "<p>Failed to display Jupyter Widget of type <code>Viewer</code>.</p>\n",
       "<p>\n",
       "  If you're reading this message in the Jupyter Notebook or JupyterLab Notebook, it may mean\n",
       "  that the widgets JavaScript is still loading. If this message persists, it\n",
       "  likely means that the widgets JavaScript library is either not installed or\n",
       "  not enabled. See the <a href=\"https://ipywidgets.readthedocs.io/en/stable/user_install.html\">Jupyter\n",
       "  Widgets Documentation</a> for setup instructions.\n",
       "</p>\n",
       "<p>\n",
       "  If you're reading this message in another frontend (for example, a static\n",
       "  rendering on GitHub or <a href=\"https://nbviewer.jupyter.org/\">NBViewer</a>),\n",
       "  it may mean that your frontend doesn't currently support widgets.\n",
       "</p>\n"
      ],
      "text/plain": [
       "Viewer(image=<itkImagePython.itkImageF3; proxy of <Swig Object of type 'itkImageF3 *' at 0x7f4158cb5870> >)"
      ]
     },
     "metadata": {},
     "output_type": "display_data"
    }
   ],
   "source": [
    "from itkwidgets import view\n",
    "import itk\n",
    "PixelType = itk.ctype('float')\n",
    "image = itk.imread(brainFileName, PixelType)\n",
    "view(image)"
   ]
  },
  {
   "cell_type": "code",
   "execution_count": 3,
   "metadata": {
    "slideshow": {
     "slide_type": "subslide"
    }
   },
   "outputs": [
    {
     "data": {
      "application/vnd.jupyter.widget-view+json": {
       "model_id": "8f87a7cdce934c5a86ff5f5a4f48cbe4",
       "version_major": 2,
       "version_minor": 0
      },
      "text/html": [
       "<p>Failed to display Jupyter Widget of type <code>Viewer</code>.</p>\n",
       "<p>\n",
       "  If you're reading this message in the Jupyter Notebook or JupyterLab Notebook, it may mean\n",
       "  that the widgets JavaScript is still loading. If this message persists, it\n",
       "  likely means that the widgets JavaScript library is either not installed or\n",
       "  not enabled. See the <a href=\"https://ipywidgets.readthedocs.io/en/stable/user_install.html\">Jupyter\n",
       "  Widgets Documentation</a> for setup instructions.\n",
       "</p>\n",
       "<p>\n",
       "  If you're reading this message in another frontend (for example, a static\n",
       "  rendering on GitHub or <a href=\"https://nbviewer.jupyter.org/\">NBViewer</a>),\n",
       "  it may mean that your frontend doesn't currently support widgets.\n",
       "</p>\n"
      ],
      "text/plain": [
       "Viewer(image=<itkImagePython.itkImageF3; proxy of <Swig Object of type 'itkImageF3 *' at 0x7f41589f3e10> >)"
      ]
     },
     "metadata": {},
     "output_type": "display_data"
    }
   ],
   "source": [
    "# Smooth the image\n",
    "smoother = itk.CurvatureFlowImageFilter.New(image)\n",
    "smoother.SetNumberOfIterations(6)\n",
    "smoother.SetTimeStep(0.05)\n",
    "smoother.Update()\n",
    "view(smoother.GetOutput())"
   ]
  },
  {
   "cell_type": "code",
   "execution_count": 4,
   "metadata": {
    "slideshow": {
     "slide_type": "subslide"
    }
   },
   "outputs": [],
   "source": [
    "confidence_connected = itk.ConfidenceConnectedImageFilter.New(smoother.GetOutput())\n",
    "confidence_connected.SetMultiplier(2.5)\n",
    "confidence_connected.SetNumberOfIterations(5)\n",
    "confidence_connected.SetInitialNeighborhoodRadius(2)\n",
    "confidence_connected.SetReplaceValue(255)\n",
    "\n",
    "Dimension = image.GetImageDimension()\n",
    "SeedType = itk.Index[Dimension]\n",
    "seed1 = SeedType()\n",
    "seed1[0] = 118\n",
    "seed1[1] = 133\n",
    "seed1[2] = 92\n",
    "confidence_connected.AddSeed(seed1)\n",
    "\n",
    "seed2 = SeedType()\n",
    "seed2[0] = 63\n",
    "seed2[1] = 135\n",
    "seed2[2] = 94\n",
    "confidence_connected.AddSeed(seed2)\n",
    "\n",
    "seed3 = SeedType()\n",
    "seed3[0] = 63\n",
    "seed3[1] = 157\n",
    "seed3[2] = 90\n",
    "confidence_connected.AddSeed(seed3)\n",
    "\n",
    "seed4 = SeedType()\n",
    "seed4[0] = 111\n",
    "seed4[1] = 150\n",
    "seed4[2] = 90\n",
    "confidence_connected.AddSeed(seed4)\n",
    "\n",
    "seed5 = SeedType()\n",
    "seed5[0] = 111\n",
    "seed5[1] = 50\n",
    "seed5[2] = 88\n",
    "confidence_connected.AddSeed(seed5)"
   ]
  },
  {
   "cell_type": "code",
   "execution_count": 5,
   "metadata": {
    "slideshow": {
     "slide_type": "subslide"
    }
   },
   "outputs": [
    {
     "data": {
      "application/vnd.jupyter.widget-view+json": {
       "model_id": "55e52a21931342c8ad8bfa16a6d11779",
       "version_major": 2,
       "version_minor": 0
      },
      "text/html": [
       "<p>Failed to display Jupyter Widget of type <code>Viewer</code>.</p>\n",
       "<p>\n",
       "  If you're reading this message in the Jupyter Notebook or JupyterLab Notebook, it may mean\n",
       "  that the widgets JavaScript is still loading. If this message persists, it\n",
       "  likely means that the widgets JavaScript library is either not installed or\n",
       "  not enabled. See the <a href=\"https://ipywidgets.readthedocs.io/en/stable/user_install.html\">Jupyter\n",
       "  Widgets Documentation</a> for setup instructions.\n",
       "</p>\n",
       "<p>\n",
       "  If you're reading this message in another frontend (for example, a static\n",
       "  rendering on GitHub or <a href=\"https://nbviewer.jupyter.org/\">NBViewer</a>),\n",
       "  it may mean that your frontend doesn't currently support widgets.\n",
       "</p>\n"
      ],
      "text/plain": [
       "Viewer(image=<itkImagePython.itkImageSS3; proxy of <Swig Object of type 'itkImageSS3 *' at 0x7f4158a014b0> >)"
      ]
     },
     "metadata": {},
     "output_type": "display_data"
    }
   ],
   "source": [
    "confidence_connected.Update()\n",
    "view(confidence_connected.GetOutput())"
   ]
  },
  {
   "cell_type": "markdown",
   "metadata": {
    "slideshow": {
     "slide_type": "slide"
    }
   },
   "source": [
    "## What technical approaches are required for this problem?"
   ]
  },
  {
   "cell_type": "markdown",
   "metadata": {
    "slideshow": {
     "slide_type": "subslide"
    }
   },
   "source": [
    "### Multiple Languages\n",
    "\n",
    "<img src=\"languages.png\" width=\"600\">"
   ]
  },
  {
   "cell_type": "markdown",
   "metadata": {
    "slideshow": {
     "slide_type": "subslide"
    }
   },
   "source": [
    "### Attention to Performance"
   ]
  },
  {
   "cell_type": "markdown",
   "metadata": {
    "slideshow": {
     "slide_type": "fragment"
    }
   },
   "source": [
    "- Browser memory limitations? **No!**"
   ]
  },
  {
   "cell_type": "markdown",
   "metadata": {
    "slideshow": {
     "slide_type": "fragment"
    }
   },
   "source": [
    "- Browser compute limitations? **If so, not for long!**"
   ]
  },
  {
   "cell_type": "markdown",
   "metadata": {
    "slideshow": {
     "slide_type": "fragment"
    }
   },
   "source": [
    "- Data transfer times? **Yes!**"
   ]
  },
  {
   "cell_type": "markdown",
   "metadata": {
    "slideshow": {
     "slide_type": "slide"
    }
   },
   "source": [
    "## How do I use this tool?"
   ]
  },
  {
   "cell_type": "markdown",
   "metadata": {
    "slideshow": {
     "slide_type": "subslide"
    }
   },
   "source": [
    "### Window / Level\n",
    "\n",
    "<img src=\"window_level.gif\">\n",
    "<small>[Image source](https://docs.oracle.com/cd/E19253-01/817-7519/6mmr6chkl/index.html)</small>"
   ]
  },
  {
   "cell_type": "markdown",
   "metadata": {
    "slideshow": {
     "slide_type": "subslide"
    }
   },
   "source": [
    "### Opacity Transfer Function\n",
    "\n",
    "- Revelant to volume rendering\n",
    "- Scalar intensity opacity\n",
    "- Gradient-based opacity (shading)\n"
   ]
  },
  {
   "cell_type": "markdown",
   "metadata": {
    "slideshow": {
     "slide_type": "slide"
    }
   },
   "source": [
    "## What are the next steps?"
   ]
  },
  {
   "cell_type": "markdown",
   "metadata": {
    "slideshow": {
     "slide_type": "subslide"
    }
   },
   "source": [
    "### Impact: Addressing Heart Disease\n",
    "\n",
    "American Heart Association, Precision Medicine Platform\n",
    "\n",
    "<img src=\"aha.png\" width=\"800\">\n",
    "<small>[Image source](https://precision.heart.org/workspace)</small>"
   ]
  },
  {
   "cell_type": "markdown",
   "metadata": {
    "slideshow": {
     "slide_type": "subslide"
    }
   },
   "source": [
    "### Impact: Smart, Data-driven Financial Investments\n",
    "\n",
    "- [Triangle Quant Investing Strategies Meet-up](https://www.meetup.com/Quant-Investing-strategies/)\n",
    "- Quantopia\n"
   ]
  },
  {
   "cell_type": "markdown",
   "metadata": {
    "slideshow": {
     "slide_type": "subslide"
    }
   },
   "source": [
    "### Satellite Image Analysis\n",
    "\n",
    "- [PlanetLabs](https://www.planet.com/) Notebooks\n",
    "\n",
    "<img src=\"satellite.png\" width=\"700\">\n",
    "<small>[Image source](https://github.com/planetlabs/notebooks/blob/master/jupyter-notebooks/crop-classification/classify-cart-l8-ps.ipynb)</small>"
   ]
  },
  {
   "cell_type": "markdown",
   "metadata": {
    "slideshow": {
     "slide_type": "subslide"
    }
   },
   "source": [
    "### Enable People to Unlock the Power of Math, Science, and Computing\n",
    "\n",
    "<img src=\"easier_for_people.png\" width=\"800\">\n"
   ]
  },
  {
   "cell_type": "markdown",
   "metadata": {
    "slideshow": {
     "slide_type": "subslide"
    }
   },
   "source": [
    "### Next Up for itk-jupyter-widgets\n",
    "\n",
    "- Support image types other than itk.Image, NumPy Array, e.g. OpenCV Mat, ImageJ2 images, vtkImageData, ...\n",
    "- Rendering meshes and point clouds\n",
    "- Compression and dynamic downsampling\n",
    "- Documentation\n",
    "- Embedding\n",
    "- JupyterLab Support\n"
   ]
  },
  {
   "cell_type": "markdown",
   "metadata": {
    "slideshow": {
     "slide_type": "subslide"
    }
   },
   "source": [
    "- Interactive\n",
    "- Accessible\n",
    "- Brings powerful ~~programming tools~~ people together\n",
    "\n",
    "\n",
    "[<img src=\"https://pydata.org/carolinas2016/media/sponsor_files/tripython-banner_478mQLr.svg\" width=\"300\">](http://trizpug.org/)\n",
    "\n",
    "https://twitter.com/thewtex\n",
    "\n",
    "Email: matt.mccormick@kitware.com\n"
   ]
  }
 ],
 "metadata": {
  "celltoolbar": "Slideshow",
  "kernelspec": {
   "display_name": "Python 2",
   "language": "python",
   "name": "python2"
  },
  "language_info": {
   "codemirror_mode": {
    "name": "ipython",
    "version": 2
   },
   "file_extension": ".py",
   "mimetype": "text/x-python",
   "name": "python",
   "nbconvert_exporter": "python",
   "pygments_lexer": "ipython2",
   "version": "2.7.12"
  }
 },
 "nbformat": 4,
 "nbformat_minor": 2
}
